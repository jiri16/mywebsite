{
 "cells": [
  {
   "cell_type": "markdown",
   "metadata": {},
   "source": [
    "# Analysis of Foreign Bank Branches\n",
    "\n",
    "In this course project I utilize the dataset by Claessens and Van Horen (2014) to explore and visualize the data on foreing bank branches. The dataset includes 5000+ banks across 139 countries and their ultimate ownership by country. Thoughout this project I use the Python Libraries Pandas, Matplotlib, and Seaborn. There are three main findings in the project. First (i), I identify countries with the highest rate of involvement of foreign banks, second (ii), I identify which countries have the most bank branches in other countries, and third (iii), I present the relationship between involvement of foreign banks in the domstic market and domestic banks involvement in foreign markets."
   ]
  },
  {
   "cell_type": "markdown",
   "metadata": {},
   "source": [
    "## Downloading the Dataset\n",
    "\n",
    "The dataset used is by Claessens and Van Horen (2014). It is a public dataset posted at https://neeltjevanhoren.com/my-research/datasets/."
   ]
  },
  {
   "cell_type": "code",
   "execution_count": 2,
   "metadata": {},
   "outputs": [],
   "source": [
    "!pip install jovian --upgrade --quiet"
   ]
  },
  {
   "cell_type": "code",
   "execution_count": 3,
   "metadata": {},
   "outputs": [],
   "source": [
    "import os\n",
    "import pandas as pd\n",
    "import numpy as np"
   ]
  },
  {
   "cell_type": "code",
   "execution_count": 4,
   "metadata": {},
   "outputs": [],
   "source": [
    "banks_df = pd.read_csv('banks.csv',encoding = \"ISO-8859-1\")"
   ]
  },
  {
   "cell_type": "markdown",
   "metadata": {},
   "source": [
    "The dataset has been downloaded and extracted."
   ]
  },
  {
   "cell_type": "code",
   "execution_count": 5,
   "metadata": {},
   "outputs": [],
   "source": [
    "import jovian"
   ]
  },
  {
   "cell_type": "code",
   "execution_count": 6,
   "metadata": {},
   "outputs": [
    {
     "data": {
      "application/javascript": [
       "window.require && require([\"base/js/namespace\"],function(Jupyter){Jupyter.notebook.save_checkpoint()})"
      ],
      "text/plain": [
       "<IPython.core.display.Javascript object>"
      ]
     },
     "metadata": {},
     "output_type": "display_data"
    },
    {
     "name": "stdout",
     "output_type": "stream",
     "text": [
      "[jovian] Updating notebook \"jiri-havel16/foreign-banks\" on https://jovian.ai\u001b[0m\n",
      "[jovian] Committed successfully! https://jovian.ai/jiri-havel16/foreign-banks\u001b[0m\n"
     ]
    },
    {
     "data": {
      "text/plain": [
       "'https://jovian.ai/jiri-havel16/foreign-banks'"
      ]
     },
     "execution_count": 6,
     "metadata": {},
     "output_type": "execute_result"
    }
   ],
   "source": [
    "project_name='foreign_banks'\n",
    "jovian.commit(project=project_name)"
   ]
  },
  {
   "cell_type": "markdown",
   "metadata": {},
   "source": [
    "## Data Preparation and Cleaning\n",
    "\n",
    "I use Pandas to read the downloaded dataset and explore the dimensions and descriptive statistics.\n",
    "\n"
   ]
  },
  {
   "cell_type": "code",
   "execution_count": 7,
   "metadata": {},
   "outputs": [
    {
     "data": {
      "text/plain": [
       "(5498, 59)"
      ]
     },
     "execution_count": 7,
     "metadata": {},
     "output_type": "execute_result"
    }
   ],
   "source": [
    "banks_df.shape"
   ]
  },
  {
   "cell_type": "code",
   "execution_count": 8,
   "metadata": {},
   "outputs": [
    {
     "data": {
      "text/html": [
       "<div>\n",
       "<style scoped>\n",
       "    .dataframe tbody tr th:only-of-type {\n",
       "        vertical-align: middle;\n",
       "    }\n",
       "\n",
       "    .dataframe tbody tr th {\n",
       "        vertical-align: top;\n",
       "    }\n",
       "\n",
       "    .dataframe thead th {\n",
       "        text-align: right;\n",
       "    }\n",
       "</style>\n",
       "<table border=\"1\" class=\"dataframe\">\n",
       "  <thead>\n",
       "    <tr style=\"text-align: right;\">\n",
       "      <th></th>\n",
       "      <th>region</th>\n",
       "      <th>incgroup</th>\n",
       "      <th>offshore</th>\n",
       "      <th>country</th>\n",
       "      <th>cntrycode</th>\n",
       "      <th>bankname 2013</th>\n",
       "      <th>bankname 2009</th>\n",
       "      <th>spec</th>\n",
       "      <th>index_consol</th>\n",
       "      <th>cons_code</th>\n",
       "      <th>...</th>\n",
       "      <th>ownsou2004</th>\n",
       "      <th>ownsou2005</th>\n",
       "      <th>ownsou2006</th>\n",
       "      <th>ownsou2007</th>\n",
       "      <th>ownsou2008</th>\n",
       "      <th>ownsou2009</th>\n",
       "      <th>ownsou2010</th>\n",
       "      <th>ownsou2011</th>\n",
       "      <th>ownsou2012</th>\n",
       "      <th>ownsou2013</th>\n",
       "    </tr>\n",
       "  </thead>\n",
       "  <tbody>\n",
       "    <tr>\n",
       "      <th>0</th>\n",
       "      <td>ECA</td>\n",
       "      <td>DEV</td>\n",
       "      <td>0</td>\n",
       "      <td>ALBANIA</td>\n",
       "      <td>ALB</td>\n",
       "      <td>Alpha Bank SH.A</td>\n",
       "      <td>Alpha Bank SH.A</td>\n",
       "      <td>Commercial Banks</td>\n",
       "      <td>14561</td>\n",
       "      <td>U1</td>\n",
       "      <td>...</td>\n",
       "      <td>GREECE</td>\n",
       "      <td>GREECE</td>\n",
       "      <td>GREECE</td>\n",
       "      <td>GREECE</td>\n",
       "      <td>GREECE</td>\n",
       "      <td>GREECE</td>\n",
       "      <td>GREECE</td>\n",
       "      <td>GREECE</td>\n",
       "      <td>GREECE</td>\n",
       "      <td>GREECE</td>\n",
       "    </tr>\n",
       "    <tr>\n",
       "      <th>1</th>\n",
       "      <td>ECA</td>\n",
       "      <td>DEV</td>\n",
       "      <td>0</td>\n",
       "      <td>ALBANIA</td>\n",
       "      <td>ALB</td>\n",
       "      <td>Banka Kombetare Tregtare Sh.a.-National Commer...</td>\n",
       "      <td>Banka Kombetare Tregtare Sh.s.-National Commer...</td>\n",
       "      <td>Commercial Banks</td>\n",
       "      <td>17265</td>\n",
       "      <td>U1</td>\n",
       "      <td>...</td>\n",
       "      <td>CROATIA</td>\n",
       "      <td>CROATIA</td>\n",
       "      <td>TURKEY</td>\n",
       "      <td>TURKEY</td>\n",
       "      <td>TURKEY</td>\n",
       "      <td>TURKEY</td>\n",
       "      <td>TURKEY</td>\n",
       "      <td>TURKEY</td>\n",
       "      <td>TURKEY</td>\n",
       "      <td>TURKEY</td>\n",
       "    </tr>\n",
       "    <tr>\n",
       "      <th>2</th>\n",
       "      <td>ECA</td>\n",
       "      <td>DEV</td>\n",
       "      <td>0</td>\n",
       "      <td>ALBANIA</td>\n",
       "      <td>ALB</td>\n",
       "      <td>Banka Societe Generale Albania Sh.A</td>\n",
       "      <td>Banka Popullore Sh.A</td>\n",
       "      <td>Commercial Banks</td>\n",
       "      <td>40931</td>\n",
       "      <td>U1</td>\n",
       "      <td>...</td>\n",
       "      <td>DOM</td>\n",
       "      <td>DOM</td>\n",
       "      <td>DOM</td>\n",
       "      <td>FRANCE</td>\n",
       "      <td>FRANCE</td>\n",
       "      <td>FRANCE</td>\n",
       "      <td>FRANCE</td>\n",
       "      <td>FRANCE</td>\n",
       "      <td>FRANCE</td>\n",
       "      <td>FRANCE</td>\n",
       "    </tr>\n",
       "    <tr>\n",
       "      <th>3</th>\n",
       "      <td>ECA</td>\n",
       "      <td>DEV</td>\n",
       "      <td>0</td>\n",
       "      <td>ALBANIA</td>\n",
       "      <td>ALB</td>\n",
       "      <td>Credins Bank Sh.A</td>\n",
       "      <td>Credins Bank Sh.A</td>\n",
       "      <td>Commercial Banks</td>\n",
       "      <td>40932</td>\n",
       "      <td>U1</td>\n",
       "      <td>...</td>\n",
       "      <td>DOM</td>\n",
       "      <td>DOM</td>\n",
       "      <td>DOM</td>\n",
       "      <td>DOM</td>\n",
       "      <td>DOM</td>\n",
       "      <td>DOM</td>\n",
       "      <td>DOM</td>\n",
       "      <td>DOM</td>\n",
       "      <td>DOM</td>\n",
       "      <td>DOM</td>\n",
       "    </tr>\n",
       "    <tr>\n",
       "      <th>4</th>\n",
       "      <td>ECA</td>\n",
       "      <td>DEV</td>\n",
       "      <td>0</td>\n",
       "      <td>ALBANIA</td>\n",
       "      <td>ALB</td>\n",
       "      <td>Credit Agricole Bank (Albania)</td>\n",
       "      <td>Emporiki Bank - Albania SA</td>\n",
       "      <td>Commercial Banks</td>\n",
       "      <td>40598</td>\n",
       "      <td>U1</td>\n",
       "      <td>...</td>\n",
       "      <td>GREECE</td>\n",
       "      <td>GREECE</td>\n",
       "      <td>GREECE</td>\n",
       "      <td>GREECE</td>\n",
       "      <td>GREECE</td>\n",
       "      <td>GREECE</td>\n",
       "      <td>GREECE</td>\n",
       "      <td>GREECE</td>\n",
       "      <td>FRANCE</td>\n",
       "      <td>FRANCE</td>\n",
       "    </tr>\n",
       "    <tr>\n",
       "      <th>...</th>\n",
       "      <td>...</td>\n",
       "      <td>...</td>\n",
       "      <td>...</td>\n",
       "      <td>...</td>\n",
       "      <td>...</td>\n",
       "      <td>...</td>\n",
       "      <td>...</td>\n",
       "      <td>...</td>\n",
       "      <td>...</td>\n",
       "      <td>...</td>\n",
       "      <td>...</td>\n",
       "      <td>...</td>\n",
       "      <td>...</td>\n",
       "      <td>...</td>\n",
       "      <td>...</td>\n",
       "      <td>...</td>\n",
       "      <td>...</td>\n",
       "      <td>...</td>\n",
       "      <td>...</td>\n",
       "      <td>...</td>\n",
       "      <td>...</td>\n",
       "    </tr>\n",
       "    <tr>\n",
       "      <th>5493</th>\n",
       "      <td>SSA</td>\n",
       "      <td>DEV</td>\n",
       "      <td>0</td>\n",
       "      <td>ZIMBABWE</td>\n",
       "      <td>ZWE</td>\n",
       "      <td>Stanbic Bank Zimbabwe Limited</td>\n",
       "      <td>Stanbic Bank Zimbabwe Limited</td>\n",
       "      <td>Commercial Banks</td>\n",
       "      <td>36961</td>\n",
       "      <td>U1</td>\n",
       "      <td>...</td>\n",
       "      <td>SOUTH AFRICA</td>\n",
       "      <td>SOUTH AFRICA</td>\n",
       "      <td>SOUTH AFRICA</td>\n",
       "      <td>SOUTH AFRICA</td>\n",
       "      <td>SOUTH AFRICA</td>\n",
       "      <td>SOUTH AFRICA</td>\n",
       "      <td>SOUTH AFRICA</td>\n",
       "      <td>SOUTH AFRICA</td>\n",
       "      <td>SOUTH AFRICA</td>\n",
       "      <td>SOUTH AFRICA</td>\n",
       "    </tr>\n",
       "    <tr>\n",
       "      <th>5494</th>\n",
       "      <td>SSA</td>\n",
       "      <td>DEV</td>\n",
       "      <td>0</td>\n",
       "      <td>ZIMBABWE</td>\n",
       "      <td>ZWE</td>\n",
       "      <td>Standard Chartered Bank Zimbabwe Ltd</td>\n",
       "      <td>Standard Chartered Bank Zimbabwe Ltd</td>\n",
       "      <td>Commercial Banks</td>\n",
       "      <td>31650</td>\n",
       "      <td>C1</td>\n",
       "      <td>...</td>\n",
       "      <td>UNITED KINGDOM</td>\n",
       "      <td>UNITED KINGDOM</td>\n",
       "      <td>UNITED KINGDOM</td>\n",
       "      <td>UNITED KINGDOM</td>\n",
       "      <td>UNITED KINGDOM</td>\n",
       "      <td>UNITED KINGDOM</td>\n",
       "      <td>UNITED KINGDOM</td>\n",
       "      <td>UNITED KINGDOM</td>\n",
       "      <td>UNITED KINGDOM</td>\n",
       "      <td>UNITED KINGDOM</td>\n",
       "    </tr>\n",
       "    <tr>\n",
       "      <th>5495</th>\n",
       "      <td>SSA</td>\n",
       "      <td>DEV</td>\n",
       "      <td>0</td>\n",
       "      <td>ZIMBABWE</td>\n",
       "      <td>ZWE</td>\n",
       "      <td>Time Bank of Zimbabwe</td>\n",
       "      <td>Time Bank of Zimbabwe</td>\n",
       "      <td>Commercial Banks</td>\n",
       "      <td>48000</td>\n",
       "      <td>U1</td>\n",
       "      <td>...</td>\n",
       "      <td>NaN</td>\n",
       "      <td>NaN</td>\n",
       "      <td>NaN</td>\n",
       "      <td>NaN</td>\n",
       "      <td>NaN</td>\n",
       "      <td>NaN</td>\n",
       "      <td>NaN</td>\n",
       "      <td>NaN</td>\n",
       "      <td>NaN</td>\n",
       "      <td>NaN</td>\n",
       "    </tr>\n",
       "    <tr>\n",
       "      <th>5496</th>\n",
       "      <td>SSA</td>\n",
       "      <td>DEV</td>\n",
       "      <td>0</td>\n",
       "      <td>ZIMBABWE</td>\n",
       "      <td>ZWE</td>\n",
       "      <td>Trust Bank Corporation Limited</td>\n",
       "      <td>Trust Bank Corporation Limited</td>\n",
       "      <td>Commercial Banks</td>\n",
       "      <td>17065</td>\n",
       "      <td>C1</td>\n",
       "      <td>...</td>\n",
       "      <td>DOM</td>\n",
       "      <td>NaN</td>\n",
       "      <td>NaN</td>\n",
       "      <td>NaN</td>\n",
       "      <td>NaN</td>\n",
       "      <td>NaN</td>\n",
       "      <td>NaN</td>\n",
       "      <td>NaN</td>\n",
       "      <td>NaN</td>\n",
       "      <td>NaN</td>\n",
       "    </tr>\n",
       "    <tr>\n",
       "      <th>5497</th>\n",
       "      <td>SSA</td>\n",
       "      <td>DEV</td>\n",
       "      <td>0</td>\n",
       "      <td>ZIMBABWE</td>\n",
       "      <td>ZWE</td>\n",
       "      <td>ZB Financial Holdings Limited</td>\n",
       "      <td>ZB Financial Holdings Limited</td>\n",
       "      <td>Bank Holding &amp; Holding Companies</td>\n",
       "      <td>41406</td>\n",
       "      <td>C2</td>\n",
       "      <td>...</td>\n",
       "      <td>DOM</td>\n",
       "      <td>DOM</td>\n",
       "      <td>DOM</td>\n",
       "      <td>DOM</td>\n",
       "      <td>DOM</td>\n",
       "      <td>DOM</td>\n",
       "      <td>DOM</td>\n",
       "      <td>DOM</td>\n",
       "      <td>DOM</td>\n",
       "      <td>DOM</td>\n",
       "    </tr>\n",
       "  </tbody>\n",
       "</table>\n",
       "<p>5498 rows × 59 columns</p>\n",
       "</div>"
      ],
      "text/plain": [
       "     region incgroup  offshore   country cntrycode  \\\n",
       "0       ECA      DEV         0   ALBANIA       ALB   \n",
       "1       ECA      DEV         0   ALBANIA       ALB   \n",
       "2       ECA      DEV         0   ALBANIA       ALB   \n",
       "3       ECA      DEV         0   ALBANIA       ALB   \n",
       "4       ECA      DEV         0   ALBANIA       ALB   \n",
       "...     ...      ...       ...       ...       ...   \n",
       "5493    SSA      DEV         0  ZIMBABWE       ZWE   \n",
       "5494    SSA      DEV         0  ZIMBABWE       ZWE   \n",
       "5495    SSA      DEV         0  ZIMBABWE       ZWE   \n",
       "5496    SSA      DEV         0  ZIMBABWE       ZWE   \n",
       "5497    SSA      DEV         0  ZIMBABWE       ZWE   \n",
       "\n",
       "                                          bankname 2013  \\\n",
       "0                                       Alpha Bank SH.A   \n",
       "1     Banka Kombetare Tregtare Sh.a.-National Commer...   \n",
       "2                   Banka Societe Generale Albania Sh.A   \n",
       "3                                     Credins Bank Sh.A   \n",
       "4                        Credit Agricole Bank (Albania)   \n",
       "...                                                 ...   \n",
       "5493                      Stanbic Bank Zimbabwe Limited   \n",
       "5494               Standard Chartered Bank Zimbabwe Ltd   \n",
       "5495                              Time Bank of Zimbabwe   \n",
       "5496                     Trust Bank Corporation Limited   \n",
       "5497                      ZB Financial Holdings Limited   \n",
       "\n",
       "                                          bankname 2009  \\\n",
       "0                                       Alpha Bank SH.A   \n",
       "1     Banka Kombetare Tregtare Sh.s.-National Commer...   \n",
       "2                                  Banka Popullore Sh.A   \n",
       "3                                     Credins Bank Sh.A   \n",
       "4                            Emporiki Bank - Albania SA   \n",
       "...                                                 ...   \n",
       "5493                      Stanbic Bank Zimbabwe Limited   \n",
       "5494               Standard Chartered Bank Zimbabwe Ltd   \n",
       "5495                              Time Bank of Zimbabwe   \n",
       "5496                     Trust Bank Corporation Limited   \n",
       "5497                      ZB Financial Holdings Limited   \n",
       "\n",
       "                                  spec  index_consol cons_code  ...  \\\n",
       "0                     Commercial Banks         14561        U1  ...   \n",
       "1                     Commercial Banks         17265        U1  ...   \n",
       "2                     Commercial Banks         40931        U1  ...   \n",
       "3                     Commercial Banks         40932        U1  ...   \n",
       "4                     Commercial Banks         40598        U1  ...   \n",
       "...                                ...           ...       ...  ...   \n",
       "5493                  Commercial Banks         36961        U1  ...   \n",
       "5494                  Commercial Banks         31650        C1  ...   \n",
       "5495                  Commercial Banks         48000        U1  ...   \n",
       "5496                  Commercial Banks         17065        C1  ...   \n",
       "5497  Bank Holding & Holding Companies         41406        C2  ...   \n",
       "\n",
       "          ownsou2004      ownsou2005      ownsou2006      ownsou2007  \\\n",
       "0             GREECE          GREECE          GREECE          GREECE   \n",
       "1            CROATIA         CROATIA          TURKEY          TURKEY   \n",
       "2                DOM             DOM             DOM          FRANCE   \n",
       "3                DOM             DOM             DOM             DOM   \n",
       "4             GREECE          GREECE          GREECE          GREECE   \n",
       "...              ...             ...             ...             ...   \n",
       "5493    SOUTH AFRICA    SOUTH AFRICA    SOUTH AFRICA    SOUTH AFRICA   \n",
       "5494  UNITED KINGDOM  UNITED KINGDOM  UNITED KINGDOM  UNITED KINGDOM   \n",
       "5495             NaN             NaN             NaN             NaN   \n",
       "5496             DOM             NaN             NaN             NaN   \n",
       "5497             DOM             DOM             DOM             DOM   \n",
       "\n",
       "          ownsou2008      ownsou2009      ownsou2010      ownsou2011  \\\n",
       "0             GREECE          GREECE          GREECE          GREECE   \n",
       "1             TURKEY          TURKEY          TURKEY          TURKEY   \n",
       "2             FRANCE          FRANCE          FRANCE          FRANCE   \n",
       "3                DOM             DOM             DOM             DOM   \n",
       "4             GREECE          GREECE          GREECE          GREECE   \n",
       "...              ...             ...             ...             ...   \n",
       "5493    SOUTH AFRICA    SOUTH AFRICA    SOUTH AFRICA    SOUTH AFRICA   \n",
       "5494  UNITED KINGDOM  UNITED KINGDOM  UNITED KINGDOM  UNITED KINGDOM   \n",
       "5495             NaN             NaN             NaN             NaN   \n",
       "5496             NaN             NaN             NaN             NaN   \n",
       "5497             DOM             DOM             DOM             DOM   \n",
       "\n",
       "          ownsou2012      ownsou2013  \n",
       "0             GREECE          GREECE  \n",
       "1             TURKEY          TURKEY  \n",
       "2             FRANCE          FRANCE  \n",
       "3                DOM             DOM  \n",
       "4             FRANCE          FRANCE  \n",
       "...              ...             ...  \n",
       "5493    SOUTH AFRICA    SOUTH AFRICA  \n",
       "5494  UNITED KINGDOM  UNITED KINGDOM  \n",
       "5495             NaN             NaN  \n",
       "5496             NaN             NaN  \n",
       "5497             DOM             DOM  \n",
       "\n",
       "[5498 rows x 59 columns]"
      ]
     },
     "execution_count": 8,
     "metadata": {},
     "output_type": "execute_result"
    }
   ],
   "source": [
    "banks_df"
   ]
  },
  {
   "cell_type": "code",
   "execution_count": 9,
   "metadata": {},
   "outputs": [
    {
     "data": {
      "text/html": [
       "<div>\n",
       "<style scoped>\n",
       "    .dataframe tbody tr th:only-of-type {\n",
       "        vertical-align: middle;\n",
       "    }\n",
       "\n",
       "    .dataframe tbody tr th {\n",
       "        vertical-align: top;\n",
       "    }\n",
       "\n",
       "    .dataframe thead th {\n",
       "        text-align: right;\n",
       "    }\n",
       "</style>\n",
       "<table border=\"1\" class=\"dataframe\">\n",
       "  <thead>\n",
       "    <tr style=\"text-align: right;\">\n",
       "      <th></th>\n",
       "      <th>offshore</th>\n",
       "      <th>index_consol</th>\n",
       "      <th>index_unconsol</th>\n",
       "      <th>yoe</th>\n",
       "      <th>yoi</th>\n",
       "      <th>added2014</th>\n",
       "      <th>own1995</th>\n",
       "      <th>own1996</th>\n",
       "      <th>own1997</th>\n",
       "      <th>own1998</th>\n",
       "      <th>...</th>\n",
       "      <th>own2004</th>\n",
       "      <th>own2005</th>\n",
       "      <th>own2006</th>\n",
       "      <th>own2007</th>\n",
       "      <th>own2008</th>\n",
       "      <th>own2009</th>\n",
       "      <th>own2010</th>\n",
       "      <th>own2011</th>\n",
       "      <th>own2012</th>\n",
       "      <th>own2013</th>\n",
       "    </tr>\n",
       "  </thead>\n",
       "  <tbody>\n",
       "    <tr>\n",
       "      <th>count</th>\n",
       "      <td>5498.000000</td>\n",
       "      <td>5498.000000</td>\n",
       "      <td>5498.000000</td>\n",
       "      <td>5465.000000</td>\n",
       "      <td>1639.000000</td>\n",
       "      <td>5498.000000</td>\n",
       "      <td>4185.00000</td>\n",
       "      <td>4296.000000</td>\n",
       "      <td>4391.000000</td>\n",
       "      <td>4420.000000</td>\n",
       "      <td>...</td>\n",
       "      <td>4262.000000</td>\n",
       "      <td>4244.000000</td>\n",
       "      <td>4204.000000</td>\n",
       "      <td>4196.000000</td>\n",
       "      <td>4185.000000</td>\n",
       "      <td>4142.000000</td>\n",
       "      <td>4061.000000</td>\n",
       "      <td>3983.000000</td>\n",
       "      <td>3905.00000</td>\n",
       "      <td>3834.000000</td>\n",
       "    </tr>\n",
       "    <tr>\n",
       "      <th>mean</th>\n",
       "      <td>0.041470</td>\n",
       "      <td>34059.143325</td>\n",
       "      <td>32753.222808</td>\n",
       "      <td>1931.702653</td>\n",
       "      <td>2004.473459</td>\n",
       "      <td>0.039651</td>\n",
       "      <td>0.20908</td>\n",
       "      <td>0.219507</td>\n",
       "      <td>0.231610</td>\n",
       "      <td>0.242986</td>\n",
       "      <td>...</td>\n",
       "      <td>0.287658</td>\n",
       "      <td>0.297597</td>\n",
       "      <td>0.315652</td>\n",
       "      <td>0.334366</td>\n",
       "      <td>0.343369</td>\n",
       "      <td>0.348865</td>\n",
       "      <td>0.352376</td>\n",
       "      <td>0.354005</td>\n",
       "      <td>0.35621</td>\n",
       "      <td>0.356808</td>\n",
       "    </tr>\n",
       "    <tr>\n",
       "      <th>std</th>\n",
       "      <td>0.199392</td>\n",
       "      <td>11867.408482</td>\n",
       "      <td>12174.074604</td>\n",
       "      <td>133.273372</td>\n",
       "      <td>4.856588</td>\n",
       "      <td>0.195155</td>\n",
       "      <td>0.40670</td>\n",
       "      <td>0.413960</td>\n",
       "      <td>0.421909</td>\n",
       "      <td>0.428935</td>\n",
       "      <td>...</td>\n",
       "      <td>0.452724</td>\n",
       "      <td>0.457255</td>\n",
       "      <td>0.464830</td>\n",
       "      <td>0.471825</td>\n",
       "      <td>0.474890</td>\n",
       "      <td>0.476669</td>\n",
       "      <td>0.477769</td>\n",
       "      <td>0.478271</td>\n",
       "      <td>0.47894</td>\n",
       "      <td>0.479120</td>\n",
       "    </tr>\n",
       "    <tr>\n",
       "      <th>min</th>\n",
       "      <td>0.000000</td>\n",
       "      <td>10006.000000</td>\n",
       "      <td>10004.000000</td>\n",
       "      <td>1472.000000</td>\n",
       "      <td>1996.000000</td>\n",
       "      <td>0.000000</td>\n",
       "      <td>0.00000</td>\n",
       "      <td>0.000000</td>\n",
       "      <td>0.000000</td>\n",
       "      <td>0.000000</td>\n",
       "      <td>...</td>\n",
       "      <td>0.000000</td>\n",
       "      <td>0.000000</td>\n",
       "      <td>0.000000</td>\n",
       "      <td>0.000000</td>\n",
       "      <td>0.000000</td>\n",
       "      <td>0.000000</td>\n",
       "      <td>0.000000</td>\n",
       "      <td>0.000000</td>\n",
       "      <td>0.00000</td>\n",
       "      <td>0.000000</td>\n",
       "    </tr>\n",
       "    <tr>\n",
       "      <th>25%</th>\n",
       "      <td>0.000000</td>\n",
       "      <td>24818.250000</td>\n",
       "      <td>21864.250000</td>\n",
       "      <td>1941.000000</td>\n",
       "      <td>2000.000000</td>\n",
       "      <td>0.000000</td>\n",
       "      <td>0.00000</td>\n",
       "      <td>0.000000</td>\n",
       "      <td>0.000000</td>\n",
       "      <td>0.000000</td>\n",
       "      <td>...</td>\n",
       "      <td>0.000000</td>\n",
       "      <td>0.000000</td>\n",
       "      <td>0.000000</td>\n",
       "      <td>0.000000</td>\n",
       "      <td>0.000000</td>\n",
       "      <td>0.000000</td>\n",
       "      <td>0.000000</td>\n",
       "      <td>0.000000</td>\n",
       "      <td>0.00000</td>\n",
       "      <td>0.000000</td>\n",
       "    </tr>\n",
       "    <tr>\n",
       "      <th>50%</th>\n",
       "      <td>0.000000</td>\n",
       "      <td>35191.000000</td>\n",
       "      <td>32736.500000</td>\n",
       "      <td>1985.000000</td>\n",
       "      <td>2004.000000</td>\n",
       "      <td>0.000000</td>\n",
       "      <td>0.00000</td>\n",
       "      <td>0.000000</td>\n",
       "      <td>0.000000</td>\n",
       "      <td>0.000000</td>\n",
       "      <td>...</td>\n",
       "      <td>0.000000</td>\n",
       "      <td>0.000000</td>\n",
       "      <td>0.000000</td>\n",
       "      <td>0.000000</td>\n",
       "      <td>0.000000</td>\n",
       "      <td>0.000000</td>\n",
       "      <td>0.000000</td>\n",
       "      <td>0.000000</td>\n",
       "      <td>0.00000</td>\n",
       "      <td>0.000000</td>\n",
       "    </tr>\n",
       "    <tr>\n",
       "      <th>75%</th>\n",
       "      <td>0.000000</td>\n",
       "      <td>44884.250000</td>\n",
       "      <td>43992.500000</td>\n",
       "      <td>1995.000000</td>\n",
       "      <td>2009.000000</td>\n",
       "      <td>0.000000</td>\n",
       "      <td>0.00000</td>\n",
       "      <td>0.000000</td>\n",
       "      <td>0.000000</td>\n",
       "      <td>0.000000</td>\n",
       "      <td>...</td>\n",
       "      <td>1.000000</td>\n",
       "      <td>1.000000</td>\n",
       "      <td>1.000000</td>\n",
       "      <td>1.000000</td>\n",
       "      <td>1.000000</td>\n",
       "      <td>1.000000</td>\n",
       "      <td>1.000000</td>\n",
       "      <td>1.000000</td>\n",
       "      <td>1.00000</td>\n",
       "      <td>1.000000</td>\n",
       "    </tr>\n",
       "    <tr>\n",
       "      <th>max</th>\n",
       "      <td>1.000000</td>\n",
       "      <td>73312.000000</td>\n",
       "      <td>73262.000000</td>\n",
       "      <td>2013.000000</td>\n",
       "      <td>2013.000000</td>\n",
       "      <td>1.000000</td>\n",
       "      <td>1.00000</td>\n",
       "      <td>1.000000</td>\n",
       "      <td>1.000000</td>\n",
       "      <td>1.000000</td>\n",
       "      <td>...</td>\n",
       "      <td>1.000000</td>\n",
       "      <td>1.000000</td>\n",
       "      <td>1.000000</td>\n",
       "      <td>1.000000</td>\n",
       "      <td>1.000000</td>\n",
       "      <td>1.000000</td>\n",
       "      <td>1.000000</td>\n",
       "      <td>1.000000</td>\n",
       "      <td>1.00000</td>\n",
       "      <td>1.000000</td>\n",
       "    </tr>\n",
       "  </tbody>\n",
       "</table>\n",
       "<p>8 rows × 25 columns</p>\n",
       "</div>"
      ],
      "text/plain": [
       "          offshore  index_consol  index_unconsol          yoe          yoi  \\\n",
       "count  5498.000000   5498.000000     5498.000000  5465.000000  1639.000000   \n",
       "mean      0.041470  34059.143325    32753.222808  1931.702653  2004.473459   \n",
       "std       0.199392  11867.408482    12174.074604   133.273372     4.856588   \n",
       "min       0.000000  10006.000000    10004.000000  1472.000000  1996.000000   \n",
       "25%       0.000000  24818.250000    21864.250000  1941.000000  2000.000000   \n",
       "50%       0.000000  35191.000000    32736.500000  1985.000000  2004.000000   \n",
       "75%       0.000000  44884.250000    43992.500000  1995.000000  2009.000000   \n",
       "max       1.000000  73312.000000    73262.000000  2013.000000  2013.000000   \n",
       "\n",
       "         added2014     own1995      own1996      own1997      own1998  ...  \\\n",
       "count  5498.000000  4185.00000  4296.000000  4391.000000  4420.000000  ...   \n",
       "mean      0.039651     0.20908     0.219507     0.231610     0.242986  ...   \n",
       "std       0.195155     0.40670     0.413960     0.421909     0.428935  ...   \n",
       "min       0.000000     0.00000     0.000000     0.000000     0.000000  ...   \n",
       "25%       0.000000     0.00000     0.000000     0.000000     0.000000  ...   \n",
       "50%       0.000000     0.00000     0.000000     0.000000     0.000000  ...   \n",
       "75%       0.000000     0.00000     0.000000     0.000000     0.000000  ...   \n",
       "max       1.000000     1.00000     1.000000     1.000000     1.000000  ...   \n",
       "\n",
       "           own2004      own2005      own2006      own2007      own2008  \\\n",
       "count  4262.000000  4244.000000  4204.000000  4196.000000  4185.000000   \n",
       "mean      0.287658     0.297597     0.315652     0.334366     0.343369   \n",
       "std       0.452724     0.457255     0.464830     0.471825     0.474890   \n",
       "min       0.000000     0.000000     0.000000     0.000000     0.000000   \n",
       "25%       0.000000     0.000000     0.000000     0.000000     0.000000   \n",
       "50%       0.000000     0.000000     0.000000     0.000000     0.000000   \n",
       "75%       1.000000     1.000000     1.000000     1.000000     1.000000   \n",
       "max       1.000000     1.000000     1.000000     1.000000     1.000000   \n",
       "\n",
       "           own2009      own2010      own2011     own2012      own2013  \n",
       "count  4142.000000  4061.000000  3983.000000  3905.00000  3834.000000  \n",
       "mean      0.348865     0.352376     0.354005     0.35621     0.356808  \n",
       "std       0.476669     0.477769     0.478271     0.47894     0.479120  \n",
       "min       0.000000     0.000000     0.000000     0.00000     0.000000  \n",
       "25%       0.000000     0.000000     0.000000     0.00000     0.000000  \n",
       "50%       0.000000     0.000000     0.000000     0.00000     0.000000  \n",
       "75%       1.000000     1.000000     1.000000     1.00000     1.000000  \n",
       "max       1.000000     1.000000     1.000000     1.00000     1.000000  \n",
       "\n",
       "[8 rows x 25 columns]"
      ]
     },
     "execution_count": 9,
     "metadata": {},
     "output_type": "execute_result"
    }
   ],
   "source": [
    "banks_df.describe()"
   ]
  },
  {
   "cell_type": "code",
   "execution_count": 10,
   "metadata": {},
   "outputs": [],
   "source": [
    "import jovian"
   ]
  },
  {
   "cell_type": "code",
   "execution_count": 11,
   "metadata": {},
   "outputs": [
    {
     "data": {
      "application/javascript": [
       "window.require && require([\"base/js/namespace\"],function(Jupyter){Jupyter.notebook.save_checkpoint()})"
      ],
      "text/plain": [
       "<IPython.core.display.Javascript object>"
      ]
     },
     "metadata": {},
     "output_type": "display_data"
    },
    {
     "name": "stdout",
     "output_type": "stream",
     "text": [
      "[jovian] Updating notebook \"jiri-havel16/foreign-banks\" on https://jovian.ai\u001b[0m\n",
      "[jovian] Committed successfully! https://jovian.ai/jiri-havel16/foreign-banks\u001b[0m\n"
     ]
    },
    {
     "data": {
      "text/plain": [
       "'https://jovian.ai/jiri-havel16/foreign-banks'"
      ]
     },
     "execution_count": 11,
     "metadata": {},
     "output_type": "execute_result"
    }
   ],
   "source": [
    "jovian.commit()"
   ]
  },
  {
   "cell_type": "markdown",
   "metadata": {},
   "source": [
    "## Exploratory Analysis and Visualization\n",
    "\n",
    "In this section, I calculate and visualize the number of total, foreign and domestic banks by country.\n",
    "\n"
   ]
  },
  {
   "cell_type": "markdown",
   "metadata": {},
   "source": [
    "Let's begin by importing`matplotlib.pyplot` and `seaborn`."
   ]
  },
  {
   "cell_type": "code",
   "execution_count": 12,
   "metadata": {},
   "outputs": [],
   "source": [
    "import seaborn as sns\n",
    "import matplotlib\n",
    "import matplotlib.pyplot as plt\n",
    "%matplotlib inline\n",
    "\n",
    "sns.set_style('darkgrid')\n",
    "matplotlib.rcParams['font.size'] = 14\n",
    "matplotlib.rcParams['figure.figsize'] = (9, 5)\n",
    "matplotlib.rcParams['figure.facecolor'] = '#00000000'"
   ]
  },
  {
   "cell_type": "markdown",
   "metadata": {},
   "source": [
    "First, I show which countries have the most banks in the dataset."
   ]
  },
  {
   "cell_type": "code",
   "execution_count": 13,
   "metadata": {},
   "outputs": [
    {
     "data": {
      "text/plain": [
       "RUSSIAN FEDERATION     279\n",
       "BRAZIL                 204\n",
       "CHINA-PEOPLE'S REP.    167\n",
       "ARGENTINA              131\n",
       "INDONESIA              122\n",
       "FRANCE                 116\n",
       "ITALY                  114\n",
       "PANAMA                 111\n",
       "SPAIN                  111\n",
       "GERMANY                111\n",
       "SWITZERLAND            104\n",
       "AUSTRIA                101\n",
       "JAPAN                  100\n",
       "NORWAY                 100\n",
       "UNITED KINGDOM          92\n",
       "Name: country, dtype: int64"
      ]
     },
     "execution_count": 13,
     "metadata": {},
     "output_type": "execute_result"
    }
   ],
   "source": [
    "top_banks = banks_df.country.value_counts().head(15)\n",
    "top_banks"
   ]
  },
  {
   "cell_type": "code",
   "execution_count": 14,
   "metadata": {},
   "outputs": [
    {
     "data": {
      "image/png": "[encoded data removed]",
      "text/plain": [
       "<Figure size 864x432 with 1 Axes>"
      ]
     },
     "metadata": {
      "needs_background": "light"
     },
     "output_type": "display_data"
    }
   ],
   "source": [
    "plt.figure(figsize=(12,6))\n",
    "plt.xticks(rotation=75)\n",
    "plt.title('Total Banks 2013')\n",
    "sns.barplot(x=top_banks.index, y=top_banks);"
   ]
  },
  {
   "cell_type": "markdown",
   "metadata": {},
   "source": [
    "Second, I show which countries have the most foreign banks."
   ]
  },
  {
   "cell_type": "code",
   "execution_count": 15,
   "metadata": {},
   "outputs": [
    {
     "data": {
      "text/plain": [
       "LUXEMBOURG             61\n",
       "BRAZIL                 50\n",
       "UNITED KINGDOM         48\n",
       "PANAMA                 41\n",
       "POLAND                 32\n",
       "INDONESIA              31\n",
       "RUSSIAN FEDERATION     31\n",
       "CHINA-PEOPLE'S REP.    29\n",
       "HONG KONG              27\n",
       "UKRAINE                23\n",
       "ROMANIA                23\n",
       "SERBIA                 21\n",
       "HUNGARY                20\n",
       "ARGENTINA              20\n",
       "CANADA                 19\n",
       "Name: country, dtype: int64"
      ]
     },
     "execution_count": 15,
     "metadata": {},
     "output_type": "execute_result"
    }
   ],
   "source": [
    "df = banks_df[banks_df[\"own2013\"] == 1]\n",
    "top_foreign = df.country.value_counts().head(15)\n",
    "top_foreign"
   ]
  },
  {
   "cell_type": "code",
   "execution_count": 16,
   "metadata": {},
   "outputs": [
    {
     "data": {
      "image/png": "[encoded data removed]",
      "text/plain": [
       "<Figure size 864x432 with 1 Axes>"
      ]
     },
     "metadata": {
      "needs_background": "light"
     },
     "output_type": "display_data"
    }
   ],
   "source": [
    "plt.figure(figsize=(12,6))\n",
    "plt.xticks(rotation=75)\n",
    "plt.title('Foreign Banks 2013')\n",
    "sns.barplot(x=top_foreign.index, y=top_foreign);"
   ]
  },
  {
   "cell_type": "markdown",
   "metadata": {},
   "source": [
    "Third, I compare the number of foreign vs. domestic banks in the dataset."
   ]
  },
  {
   "cell_type": "code",
   "execution_count": 17,
   "metadata": {},
   "outputs": [
    {
     "data": {
      "text/plain": [
       "0.0    2466\n",
       "1.0    1368\n",
       "Name: own2013, dtype: int64"
      ]
     },
     "execution_count": 17,
     "metadata": {},
     "output_type": "execute_result"
    }
   ],
   "source": [
    "foreign_counts = banks_df.own2013.value_counts()\n",
    "foreign_counts"
   ]
  },
  {
   "cell_type": "code",
   "execution_count": 18,
   "metadata": {},
   "outputs": [
    {
     "data": {
      "image/png": "[encoded data removed]",
      "text/plain": [
       "<Figure size 864x432 with 1 Axes>"
      ]
     },
     "metadata": {},
     "output_type": "display_data"
    }
   ],
   "source": [
    "plt.figure(figsize=(12,6))\n",
    "plt.title('foreign vs domestic banks 2013')\n",
    "plt.pie(foreign_counts, labels=['Domestic', 'Foreign'], autopct='%1.1f%%', startangle=180);"
   ]
  },
  {
   "cell_type": "code",
   "execution_count": 19,
   "metadata": {},
   "outputs": [],
   "source": [
    "import jovian"
   ]
  },
  {
   "cell_type": "code",
   "execution_count": 20,
   "metadata": {},
   "outputs": [
    {
     "data": {
      "application/javascript": [
       "window.require && require([\"base/js/namespace\"],function(Jupyter){Jupyter.notebook.save_checkpoint()})"
      ],
      "text/plain": [
       "<IPython.core.display.Javascript object>"
      ]
     },
     "metadata": {},
     "output_type": "display_data"
    },
    {
     "name": "stdout",
     "output_type": "stream",
     "text": [
      "[jovian] Updating notebook \"jiri-havel16/foreign-banks\" on https://jovian.ai\u001b[0m\n",
      "[jovian] Committed successfully! https://jovian.ai/jiri-havel16/foreign-banks\u001b[0m\n"
     ]
    },
    {
     "data": {
      "text/plain": [
       "'https://jovian.ai/jiri-havel16/foreign-banks'"
      ]
     },
     "execution_count": 20,
     "metadata": {},
     "output_type": "execute_result"
    }
   ],
   "source": [
    "jovian.commit()"
   ]
  },
  {
   "cell_type": "markdown",
   "metadata": {},
   "source": [
    "## Asking and Answering Questions\n",
    "\n",
    "In this section, I show the relative involvement of foreign banks in the domestic market and domestic bank's involvement in foreign markets.\n",
    "\n"
   ]
  },
  {
   "cell_type": "markdown",
   "metadata": {},
   "source": [
    "#### Q1: Which country has the highest rate of foreign banks in year 2013?"
   ]
  },
  {
   "cell_type": "code",
   "execution_count": 21,
   "metadata": {},
   "outputs": [],
   "source": [
    "top_banks = banks_df.country.value_counts()\n",
    "df = banks_df[banks_df[\"own2013\"] == 1]\n",
    "top_foreign = df.country.value_counts()"
   ]
  },
  {
   "cell_type": "code",
   "execution_count": 22,
   "metadata": {},
   "outputs": [],
   "source": [
    "df1 = pd.DataFrame(top_banks).rename(columns={\"country\": \"total\"})\n",
    "df2 = pd.DataFrame(top_foreign).rename(columns={\"country\": \"foreign\"})\n",
    "df3 = pd.concat([df1,df2], axis=1).fillna(0)\n",
    "df3['rate'] = df3.foreign/df3.total\n",
    "df3 = df3.sort_values('rate', ascending=False)"
   ]
  },
  {
   "cell_type": "code",
   "execution_count": 23,
   "metadata": {},
   "outputs": [
    {
     "data": {
      "text/html": [
       "<div>\n",
       "<style scoped>\n",
       "    .dataframe tbody tr th:only-of-type {\n",
       "        vertical-align: middle;\n",
       "    }\n",
       "\n",
       "    .dataframe tbody tr th {\n",
       "        vertical-align: top;\n",
       "    }\n",
       "\n",
       "    .dataframe thead th {\n",
       "        text-align: right;\n",
       "    }\n",
       "</style>\n",
       "<table border=\"1\" class=\"dataframe\">\n",
       "  <thead>\n",
       "    <tr style=\"text-align: right;\">\n",
       "      <th></th>\n",
       "      <th>total</th>\n",
       "      <th>foreign</th>\n",
       "      <th>rate</th>\n",
       "    </tr>\n",
       "  </thead>\n",
       "  <tbody>\n",
       "    <tr>\n",
       "      <th>ZAMBIA</th>\n",
       "      <td>18</td>\n",
       "      <td>15.0</td>\n",
       "      <td>0.833333</td>\n",
       "    </tr>\n",
       "    <tr>\n",
       "      <th>ALBANIA</th>\n",
       "      <td>14</td>\n",
       "      <td>11.0</td>\n",
       "      <td>0.785714</td>\n",
       "    </tr>\n",
       "    <tr>\n",
       "      <th>LUXEMBOURG</th>\n",
       "      <td>78</td>\n",
       "      <td>61.0</td>\n",
       "      <td>0.782051</td>\n",
       "    </tr>\n",
       "    <tr>\n",
       "      <th>SENEGAL</th>\n",
       "      <td>13</td>\n",
       "      <td>10.0</td>\n",
       "      <td>0.769231</td>\n",
       "    </tr>\n",
       "    <tr>\n",
       "      <th>MOZAMBIQUE</th>\n",
       "      <td>15</td>\n",
       "      <td>11.0</td>\n",
       "      <td>0.733333</td>\n",
       "    </tr>\n",
       "    <tr>\n",
       "      <th>CONGO, DEMOCRATIC REP. OF</th>\n",
       "      <td>14</td>\n",
       "      <td>10.0</td>\n",
       "      <td>0.714286</td>\n",
       "    </tr>\n",
       "    <tr>\n",
       "      <th>COTE D'IVOIRE</th>\n",
       "      <td>15</td>\n",
       "      <td>10.0</td>\n",
       "      <td>0.666667</td>\n",
       "    </tr>\n",
       "    <tr>\n",
       "      <th>ARMENIA</th>\n",
       "      <td>19</td>\n",
       "      <td>12.0</td>\n",
       "      <td>0.631579</td>\n",
       "    </tr>\n",
       "    <tr>\n",
       "      <th>UGANDA</th>\n",
       "      <td>24</td>\n",
       "      <td>15.0</td>\n",
       "      <td>0.625000</td>\n",
       "    </tr>\n",
       "    <tr>\n",
       "      <th>EL SALVADOR</th>\n",
       "      <td>16</td>\n",
       "      <td>10.0</td>\n",
       "      <td>0.625000</td>\n",
       "    </tr>\n",
       "    <tr>\n",
       "      <th>BAHRAIN</th>\n",
       "      <td>16</td>\n",
       "      <td>10.0</td>\n",
       "      <td>0.625000</td>\n",
       "    </tr>\n",
       "    <tr>\n",
       "      <th>CAMEROON</th>\n",
       "      <td>13</td>\n",
       "      <td>8.0</td>\n",
       "      <td>0.615385</td>\n",
       "    </tr>\n",
       "    <tr>\n",
       "      <th>CAMBODIA</th>\n",
       "      <td>18</td>\n",
       "      <td>11.0</td>\n",
       "      <td>0.611111</td>\n",
       "    </tr>\n",
       "    <tr>\n",
       "      <th>ROMANIA</th>\n",
       "      <td>38</td>\n",
       "      <td>23.0</td>\n",
       "      <td>0.605263</td>\n",
       "    </tr>\n",
       "    <tr>\n",
       "      <th>GEORGIA REP. OF</th>\n",
       "      <td>17</td>\n",
       "      <td>10.0</td>\n",
       "      <td>0.588235</td>\n",
       "    </tr>\n",
       "  </tbody>\n",
       "</table>\n",
       "</div>"
      ],
      "text/plain": [
       "                           total  foreign      rate\n",
       "ZAMBIA                        18     15.0  0.833333\n",
       "ALBANIA                       14     11.0  0.785714\n",
       "LUXEMBOURG                    78     61.0  0.782051\n",
       "SENEGAL                       13     10.0  0.769231\n",
       "MOZAMBIQUE                    15     11.0  0.733333\n",
       "CONGO, DEMOCRATIC REP. OF     14     10.0  0.714286\n",
       "COTE D'IVOIRE                 15     10.0  0.666667\n",
       "ARMENIA                       19     12.0  0.631579\n",
       "UGANDA                        24     15.0  0.625000\n",
       "EL SALVADOR                   16     10.0  0.625000\n",
       "BAHRAIN                       16     10.0  0.625000\n",
       "CAMEROON                      13      8.0  0.615385\n",
       "CAMBODIA                      18     11.0  0.611111\n",
       "ROMANIA                       38     23.0  0.605263\n",
       "GEORGIA REP. OF               17     10.0  0.588235"
      ]
     },
     "execution_count": 23,
     "metadata": {},
     "output_type": "execute_result"
    }
   ],
   "source": [
    "df4 = df3.loc[df3.total > 10].head(15)\n",
    "df4"
   ]
  },
  {
   "cell_type": "markdown",
   "metadata": {},
   "source": [
    "#### Q2: What is the distribution of foreign bank share among countries?"
   ]
  },
  {
   "cell_type": "code",
   "execution_count": 24,
   "metadata": {},
   "outputs": [
    {
     "data": {
      "image/png": "[encoded data removed]",
      "text/plain": [
       "<Figure size 864x432 with 1 Axes>"
      ]
     },
     "metadata": {
      "needs_background": "light"
     },
     "output_type": "display_data"
    }
   ],
   "source": [
    "plt.figure(figsize=(12, 6))\n",
    "plt.title('Distribution of foreign bank rate')\n",
    "plt.xlabel('rate of foreign banks')\n",
    "plt.ylabel('number of countries')\n",
    "\n",
    "plt.hist(df3.rate, bins=np.arange(0,1,0.05), color='purple');"
   ]
  },
  {
   "cell_type": "markdown",
   "metadata": {},
   "source": [
    "#### Q3: Which region has the highest rate of foreign banks in year 2013?"
   ]
  },
  {
   "cell_type": "code",
   "execution_count": 25,
   "metadata": {},
   "outputs": [],
   "source": [
    "top_banks = banks_df.region.value_counts()\n",
    "df = banks_df[banks_df[\"own2013\"] == 1]\n",
    "top_foreign = df.region.value_counts()"
   ]
  },
  {
   "cell_type": "code",
   "execution_count": 26,
   "metadata": {},
   "outputs": [],
   "source": [
    "df11 = pd.DataFrame(top_banks).rename(columns={\"region\": \"total\"})\n",
    "df22 = pd.DataFrame(top_foreign).rename(columns={\"region\": \"foreign\"})\n",
    "df33 = pd.concat([df11,df22], axis=1).fillna(0)\n",
    "df33['rate'] = df33.foreign/df33.total\n",
    "df33 = df33.sort_values('rate', ascending=False)"
   ]
  },
  {
   "cell_type": "code",
   "execution_count": 27,
   "metadata": {},
   "outputs": [
    {
     "data": {
      "text/html": [
       "<div>\n",
       "<style scoped>\n",
       "    .dataframe tbody tr th:only-of-type {\n",
       "        vertical-align: middle;\n",
       "    }\n",
       "\n",
       "    .dataframe tbody tr th {\n",
       "        vertical-align: top;\n",
       "    }\n",
       "\n",
       "    .dataframe thead th {\n",
       "        text-align: right;\n",
       "    }\n",
       "</style>\n",
       "<table border=\"1\" class=\"dataframe\">\n",
       "  <thead>\n",
       "    <tr style=\"text-align: right;\">\n",
       "      <th></th>\n",
       "      <th>total</th>\n",
       "      <th>foreign</th>\n",
       "      <th>rate</th>\n",
       "    </tr>\n",
       "  </thead>\n",
       "  <tbody>\n",
       "    <tr>\n",
       "      <th>SSA</th>\n",
       "      <td>539</td>\n",
       "      <td>213</td>\n",
       "      <td>0.395176</td>\n",
       "    </tr>\n",
       "    <tr>\n",
       "      <th>ECA</th>\n",
       "      <td>1079</td>\n",
       "      <td>347</td>\n",
       "      <td>0.321594</td>\n",
       "    </tr>\n",
       "    <tr>\n",
       "      <th>MENA</th>\n",
       "      <td>223</td>\n",
       "      <td>65</td>\n",
       "      <td>0.291480</td>\n",
       "    </tr>\n",
       "    <tr>\n",
       "      <th>OHI</th>\n",
       "      <td>239</td>\n",
       "      <td>66</td>\n",
       "      <td>0.276151</td>\n",
       "    </tr>\n",
       "    <tr>\n",
       "      <th>LAC</th>\n",
       "      <td>1114</td>\n",
       "      <td>258</td>\n",
       "      <td>0.231598</td>\n",
       "    </tr>\n",
       "    <tr>\n",
       "      <th>EAP</th>\n",
       "      <td>537</td>\n",
       "      <td>111</td>\n",
       "      <td>0.206704</td>\n",
       "    </tr>\n",
       "    <tr>\n",
       "      <th>OECD</th>\n",
       "      <td>1574</td>\n",
       "      <td>286</td>\n",
       "      <td>0.181703</td>\n",
       "    </tr>\n",
       "    <tr>\n",
       "      <th>SA</th>\n",
       "      <td>193</td>\n",
       "      <td>22</td>\n",
       "      <td>0.113990</td>\n",
       "    </tr>\n",
       "  </tbody>\n",
       "</table>\n",
       "</div>"
      ],
      "text/plain": [
       "      total  foreign      rate\n",
       "SSA     539      213  0.395176\n",
       "ECA    1079      347  0.321594\n",
       "MENA    223       65  0.291480\n",
       "OHI     239       66  0.276151\n",
       "LAC    1114      258  0.231598\n",
       "EAP     537      111  0.206704\n",
       "OECD   1574      286  0.181703\n",
       "SA      193       22  0.113990"
      ]
     },
     "execution_count": 27,
     "metadata": {},
     "output_type": "execute_result"
    }
   ],
   "source": [
    "df44 = df33.head(15)\n",
    "df44"
   ]
  },
  {
   "cell_type": "markdown",
   "metadata": {},
   "source": [
    "#### Q4: Which country has the most bank branches abroad?"
   ]
  },
  {
   "cell_type": "code",
   "execution_count": 28,
   "metadata": {},
   "outputs": [
    {
     "data": {
      "text/html": [
       "<div>\n",
       "<style scoped>\n",
       "    .dataframe tbody tr th:only-of-type {\n",
       "        vertical-align: middle;\n",
       "    }\n",
       "\n",
       "    .dataframe tbody tr th {\n",
       "        vertical-align: top;\n",
       "    }\n",
       "\n",
       "    .dataframe thead th {\n",
       "        text-align: right;\n",
       "    }\n",
       "</style>\n",
       "<table border=\"1\" class=\"dataframe\">\n",
       "  <thead>\n",
       "    <tr style=\"text-align: right;\">\n",
       "      <th></th>\n",
       "      <th>ownsou2013</th>\n",
       "    </tr>\n",
       "  </thead>\n",
       "  <tbody>\n",
       "    <tr>\n",
       "      <th>UNITED STATES</th>\n",
       "      <td>122</td>\n",
       "    </tr>\n",
       "    <tr>\n",
       "      <th>FRANCE</th>\n",
       "      <td>109</td>\n",
       "    </tr>\n",
       "    <tr>\n",
       "      <th>UNITED KINGDOM</th>\n",
       "      <td>93</td>\n",
       "    </tr>\n",
       "    <tr>\n",
       "      <th>GERMANY</th>\n",
       "      <td>66</td>\n",
       "    </tr>\n",
       "    <tr>\n",
       "      <th>ITALY</th>\n",
       "      <td>49</td>\n",
       "    </tr>\n",
       "    <tr>\n",
       "      <th>RUSSIAN FEDERATION</th>\n",
       "      <td>46</td>\n",
       "    </tr>\n",
       "    <tr>\n",
       "      <th>AUSTRIA</th>\n",
       "      <td>41</td>\n",
       "    </tr>\n",
       "    <tr>\n",
       "      <th>NETHERLANDS</th>\n",
       "      <td>39</td>\n",
       "    </tr>\n",
       "    <tr>\n",
       "      <th>CANADA</th>\n",
       "      <td>38</td>\n",
       "    </tr>\n",
       "    <tr>\n",
       "      <th>SWITZERLAND</th>\n",
       "      <td>36</td>\n",
       "    </tr>\n",
       "    <tr>\n",
       "      <th>JAPAN</th>\n",
       "      <td>36</td>\n",
       "    </tr>\n",
       "    <tr>\n",
       "      <th>SPAIN</th>\n",
       "      <td>36</td>\n",
       "    </tr>\n",
       "    <tr>\n",
       "      <th>SOUTH AFRICA</th>\n",
       "      <td>31</td>\n",
       "    </tr>\n",
       "    <tr>\n",
       "      <th>GREECE</th>\n",
       "      <td>28</td>\n",
       "    </tr>\n",
       "    <tr>\n",
       "      <th>NIGERIA</th>\n",
       "      <td>25</td>\n",
       "    </tr>\n",
       "  </tbody>\n",
       "</table>\n",
       "</div>"
      ],
      "text/plain": [
       "                    ownsou2013\n",
       "UNITED STATES              122\n",
       "FRANCE                     109\n",
       "UNITED KINGDOM              93\n",
       "GERMANY                     66\n",
       "ITALY                       49\n",
       "RUSSIAN FEDERATION          46\n",
       "AUSTRIA                     41\n",
       "NETHERLANDS                 39\n",
       "CANADA                      38\n",
       "SWITZERLAND                 36\n",
       "JAPAN                       36\n",
       "SPAIN                       36\n",
       "SOUTH AFRICA                31\n",
       "GREECE                      28\n",
       "NIGERIA                     25"
      ]
     },
     "execution_count": 28,
     "metadata": {},
     "output_type": "execute_result"
    }
   ],
   "source": [
    "top_ex = pd.DataFrame(banks_df.ownsou2013.value_counts())\n",
    "top_ex = top_ex.drop(index='DOM')\n",
    "top_ex.sort_values('ownsou2013', ascending=False).head(15)"
   ]
  },
  {
   "cell_type": "markdown",
   "metadata": {},
   "source": [
    "#### Q5:  What is the relationship between share of foreign banks and bank branches abroad?"
   ]
  },
  {
   "cell_type": "code",
   "execution_count": 29,
   "metadata": {},
   "outputs": [
    {
     "data": {
      "text/html": [
       "<div>\n",
       "<style scoped>\n",
       "    .dataframe tbody tr th:only-of-type {\n",
       "        vertical-align: middle;\n",
       "    }\n",
       "\n",
       "    .dataframe tbody tr th {\n",
       "        vertical-align: top;\n",
       "    }\n",
       "\n",
       "    .dataframe thead th {\n",
       "        text-align: right;\n",
       "    }\n",
       "</style>\n",
       "<table border=\"1\" class=\"dataframe\">\n",
       "  <thead>\n",
       "    <tr style=\"text-align: right;\">\n",
       "      <th></th>\n",
       "      <th>abroad</th>\n",
       "      <th>total</th>\n",
       "      <th>foreign</th>\n",
       "      <th>rate</th>\n",
       "      <th>abroad_rate</th>\n",
       "    </tr>\n",
       "  </thead>\n",
       "  <tbody>\n",
       "    <tr>\n",
       "      <th>UNITED STATES</th>\n",
       "      <td>122.0</td>\n",
       "      <td>89.0</td>\n",
       "      <td>18.0</td>\n",
       "      <td>0.202247</td>\n",
       "      <td>1.370787</td>\n",
       "    </tr>\n",
       "    <tr>\n",
       "      <th>FRANCE</th>\n",
       "      <td>109.0</td>\n",
       "      <td>116.0</td>\n",
       "      <td>4.0</td>\n",
       "      <td>0.034483</td>\n",
       "      <td>0.939655</td>\n",
       "    </tr>\n",
       "    <tr>\n",
       "      <th>UNITED KINGDOM</th>\n",
       "      <td>93.0</td>\n",
       "      <td>92.0</td>\n",
       "      <td>48.0</td>\n",
       "      <td>0.521739</td>\n",
       "      <td>1.010870</td>\n",
       "    </tr>\n",
       "    <tr>\n",
       "      <th>GERMANY</th>\n",
       "      <td>66.0</td>\n",
       "      <td>111.0</td>\n",
       "      <td>14.0</td>\n",
       "      <td>0.126126</td>\n",
       "      <td>0.594595</td>\n",
       "    </tr>\n",
       "    <tr>\n",
       "      <th>ITALY</th>\n",
       "      <td>49.0</td>\n",
       "      <td>114.0</td>\n",
       "      <td>9.0</td>\n",
       "      <td>0.078947</td>\n",
       "      <td>0.429825</td>\n",
       "    </tr>\n",
       "    <tr>\n",
       "      <th>...</th>\n",
       "      <td>...</td>\n",
       "      <td>...</td>\n",
       "      <td>...</td>\n",
       "      <td>...</td>\n",
       "      <td>...</td>\n",
       "    </tr>\n",
       "    <tr>\n",
       "      <th>BOLIVIA</th>\n",
       "      <td>0.0</td>\n",
       "      <td>16.0</td>\n",
       "      <td>3.0</td>\n",
       "      <td>0.187500</td>\n",
       "      <td>0.000000</td>\n",
       "    </tr>\n",
       "    <tr>\n",
       "      <th>AZERBAIJAN</th>\n",
       "      <td>0.0</td>\n",
       "      <td>27.0</td>\n",
       "      <td>3.0</td>\n",
       "      <td>0.111111</td>\n",
       "      <td>0.000000</td>\n",
       "    </tr>\n",
       "    <tr>\n",
       "      <th>NEPAL</th>\n",
       "      <td>0.0</td>\n",
       "      <td>32.0</td>\n",
       "      <td>3.0</td>\n",
       "      <td>0.093750</td>\n",
       "      <td>0.000000</td>\n",
       "    </tr>\n",
       "    <tr>\n",
       "      <th>MONGOLIA</th>\n",
       "      <td>0.0</td>\n",
       "      <td>11.0</td>\n",
       "      <td>1.0</td>\n",
       "      <td>0.090909</td>\n",
       "      <td>0.000000</td>\n",
       "    </tr>\n",
       "    <tr>\n",
       "      <th>SRI LANKA</th>\n",
       "      <td>0.0</td>\n",
       "      <td>15.0</td>\n",
       "      <td>0.0</td>\n",
       "      <td>0.000000</td>\n",
       "      <td>0.000000</td>\n",
       "    </tr>\n",
       "  </tbody>\n",
       "</table>\n",
       "<p>109 rows × 5 columns</p>\n",
       "</div>"
      ],
      "text/plain": [
       "                abroad  total  foreign      rate  abroad_rate\n",
       "UNITED STATES    122.0   89.0     18.0  0.202247     1.370787\n",
       "FRANCE           109.0  116.0      4.0  0.034483     0.939655\n",
       "UNITED KINGDOM    93.0   92.0     48.0  0.521739     1.010870\n",
       "GERMANY           66.0  111.0     14.0  0.126126     0.594595\n",
       "ITALY             49.0  114.0      9.0  0.078947     0.429825\n",
       "...                ...    ...      ...       ...          ...\n",
       "BOLIVIA            0.0   16.0      3.0  0.187500     0.000000\n",
       "AZERBAIJAN         0.0   27.0      3.0  0.111111     0.000000\n",
       "NEPAL              0.0   32.0      3.0  0.093750     0.000000\n",
       "MONGOLIA           0.0   11.0      1.0  0.090909     0.000000\n",
       "SRI LANKA          0.0   15.0      0.0  0.000000     0.000000\n",
       "\n",
       "[109 rows x 5 columns]"
      ]
     },
     "execution_count": 29,
     "metadata": {},
     "output_type": "execute_result"
    }
   ],
   "source": [
    "df5 = pd.concat([top_ex, df3], axis=1).fillna(0)\n",
    "df5 = pd.DataFrame(df5).rename(columns={\"ownsou2013\": \"abroad\"})\n",
    "df5['abroad_rate'] = df5.abroad/df5.total\n",
    "df5['abroad_rate'].replace(np.inf, 0, inplace=True)\n",
    "df5 = df5.loc[df5.total > 10]\n",
    "df5"
   ]
  },
  {
   "cell_type": "code",
   "execution_count": 30,
   "metadata": {},
   "outputs": [
    {
     "data": {
      "image/png": "[encoded data removed]",
      "text/plain": [
       "<Figure size 648x360 with 1 Axes>"
      ]
     },
     "metadata": {
      "needs_background": "light"
     },
     "output_type": "display_data"
    }
   ],
   "source": [
    "sns.scatterplot(x='rate', y='abroad_rate',data=df5)\n",
    "plt.xlabel(\"Share of Foreign Banks\")\n",
    "plt.ylabel(\"Share of Bank Branches Abroad\");"
   ]
  },
  {
   "cell_type": "code",
   "execution_count": 31,
   "metadata": {},
   "outputs": [
    {
     "data": {
      "image/png": "[encoded data removed]",
      "text/plain": [
       "<Figure size 648x360 with 1 Axes>"
      ]
     },
     "metadata": {
      "needs_background": "light"
     },
     "output_type": "display_data"
    }
   ],
   "source": [
    "sns.regplot(x='rate', y='abroad_rate',data=df5)\n",
    "plt.xlabel(\"Share of Foreign Banks\")\n",
    "plt.ylabel(\"Share of Bank Branches Abroad\");"
   ]
  },
  {
   "cell_type": "code",
   "execution_count": 32,
   "metadata": {},
   "outputs": [],
   "source": [
    "import jovian"
   ]
  },
  {
   "cell_type": "code",
   "execution_count": 33,
   "metadata": {},
   "outputs": [
    {
     "data": {
      "application/javascript": [
       "window.require && require([\"base/js/namespace\"],function(Jupyter){Jupyter.notebook.save_checkpoint()})"
      ],
      "text/plain": [
       "<IPython.core.display.Javascript object>"
      ]
     },
     "metadata": {},
     "output_type": "display_data"
    },
    {
     "name": "stdout",
     "output_type": "stream",
     "text": [
      "[jovian] Updating notebook \"jiri-havel16/foreign-banks\" on https://jovian.ai\u001b[0m\n",
      "[jovian] Committed successfully! https://jovian.ai/jiri-havel16/foreign-banks\u001b[0m\n"
     ]
    },
    {
     "data": {
      "text/plain": [
       "'https://jovian.ai/jiri-havel16/foreign-banks'"
      ]
     },
     "execution_count": 33,
     "metadata": {},
     "output_type": "execute_result"
    }
   ],
   "source": [
    "jovian.commit()"
   ]
  },
  {
   "cell_type": "markdown",
   "metadata": {},
   "source": [
    "## Inferences and Conclusion\n",
    "\n",
    "Using a dataset with 5000+ banks across 139 countries, I find a negative relationship between the share of foreign banks in the domestic market and share of domestic bank's branches in foreign markets. In other words, countries with larger participation of foreign banks tend to have less bank branches abroad."
   ]
  },
  {
   "cell_type": "code",
   "execution_count": 34,
   "metadata": {},
   "outputs": [],
   "source": [
    "import jovian"
   ]
  },
  {
   "cell_type": "code",
   "execution_count": 35,
   "metadata": {},
   "outputs": [
    {
     "data": {
      "application/javascript": [
       "window.require && require([\"base/js/namespace\"],function(Jupyter){Jupyter.notebook.save_checkpoint()})"
      ],
      "text/plain": [
       "<IPython.core.display.Javascript object>"
      ]
     },
     "metadata": {},
     "output_type": "display_data"
    },
    {
     "name": "stdout",
     "output_type": "stream",
     "text": [
      "[jovian] Updating notebook \"jiri-havel16/foreign-banks\" on https://jovian.ai\u001b[0m\n",
      "[jovian] Committed successfully! https://jovian.ai/jiri-havel16/foreign-banks\u001b[0m\n"
     ]
    },
    {
     "data": {
      "text/plain": [
       "'https://jovian.ai/jiri-havel16/foreign-banks'"
      ]
     },
     "execution_count": 35,
     "metadata": {},
     "output_type": "execute_result"
    }
   ],
   "source": [
    "jovian.commit()"
   ]
  },
  {
   "cell_type": "markdown",
   "metadata": {},
   "source": [
    "## References and Future Work\n",
    "\n",
    "For future research, linear approximation with controls of economic and financial development can be used to asses the trends in foreign banking more accurately. "
   ]
  },
  {
   "cell_type": "code",
   "execution_count": 36,
   "metadata": {},
   "outputs": [],
   "source": [
    "import jovian"
   ]
  },
  {
   "cell_type": "code",
   "execution_count": 37,
   "metadata": {
    "scrolled": true
   },
   "outputs": [
    {
     "data": {
      "application/javascript": [
       "window.require && require([\"base/js/namespace\"],function(Jupyter){Jupyter.notebook.save_checkpoint()})"
      ],
      "text/plain": [
       "<IPython.core.display.Javascript object>"
      ]
     },
     "metadata": {},
     "output_type": "display_data"
    },
    {
     "name": "stdout",
     "output_type": "stream",
     "text": [
      "[jovian] Updating notebook \"jiri-havel16/foreign-banks\" on https://jovian.ai\u001b[0m\n",
      "[jovian] Committed successfully! https://jovian.ai/jiri-havel16/foreign-banks\u001b[0m\n"
     ]
    },
    {
     "data": {
      "text/plain": [
       "'https://jovian.ai/jiri-havel16/foreign-banks'"
      ]
     },
     "execution_count": 37,
     "metadata": {},
     "output_type": "execute_result"
    }
   ],
   "source": [
    "jovian.commit()"
   ]
  },
  {
   "cell_type": "code",
   "execution_count": null,
   "metadata": {},
   "outputs": [
    {
     "data": {
      "application/javascript": [
       "window.require && require([\"base/js/namespace\"],function(Jupyter){Jupyter.notebook.save_checkpoint()})"
      ],
      "text/plain": [
       "<IPython.core.display.Javascript object>"
      ]
     },
     "metadata": {},
     "output_type": "display_data"
    }
   ],
   "source": [
    "jovian.submit(assignment=\"zero-to-pandas-project\")"
   ]
  }
 ],
 "metadata": {
  "language_info": {
   "codemirror_mode": {
    "name": "ipython",
    "version": 3
   },
   "file_extension": ".py",
   "mimetype": "text/x-python",
   "name": "python",
   "nbconvert_exporter": "python",
   "pygments_lexer": "ipython3",
   "version": "3.8.6"
  }
 },
 "nbformat": 4,
 "nbformat_minor": 4
}